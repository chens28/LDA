{
 "cells": [
  {
   "cell_type": "markdown",
   "id": "7668fefa",
   "metadata": {},
   "source": [
    "# Part II: Mallet LDA"
   ]
  },
  {
   "cell_type": "code",
   "execution_count": 1,
   "id": "7ba215a9",
   "metadata": {},
   "outputs": [],
   "source": [
    "# run functions notbook\n",
    "%run ../functions/mallet_functions.ipynb"
   ]
  },
  {
   "cell_type": "markdown",
   "id": "92b92b8b",
   "metadata": {},
   "source": [
    "### Load Processed Texts"
   ]
  },
  {
   "cell_type": "code",
   "execution_count": 2,
   "id": "c477b0db",
   "metadata": {},
   "outputs": [
    {
     "name": "stdout",
     "output_type": "stream",
     "text": [
      "['buy guess flow heavy sort thing back tampon']\n",
      "24510\n"
     ]
    }
   ],
   "source": [
    "file_path = \"../../data/train_clean.txt\"\n",
    "        \n",
    "training_data = load_processed_text(file_path)\n",
    "print(training_data[:1])\n",
    "print(len(training_data))"
   ]
  },
  {
   "cell_type": "markdown",
   "id": "1f04c4cc",
   "metadata": {},
   "source": [
    "### Mallet Setup"
   ]
  },
  {
   "cell_type": "code",
   "execution_count": 3,
   "id": "34d833b9",
   "metadata": {},
   "outputs": [],
   "source": [
    "path_to_mallet = 'C:/mallet/bin/mallet'  # CHANGE THIS TO YOUR MALLET PATH\n",
    "output_directory_path = 'C:/mallet/lda-data' # CHANGE THIS TO YOUR OUTPUT DIRECTORY\n",
    "\n",
    "path_to_training_data           = output_directory_path + '/training.txt'\n",
    "path_to_formatted_training_data = output_directory_path + '/mallet.training'"
   ]
  },
  {
   "cell_type": "code",
   "execution_count": 4,
   "id": "0ef86643",
   "metadata": {},
   "outputs": [
    {
     "name": "stdout",
     "output_type": "stream",
     "text": [
      "Importing data...\n",
      "Complete\n"
     ]
    }
   ],
   "source": [
    "import_data(path_to_mallet,\n",
    "                path_to_training_data,\n",
    "                path_to_formatted_training_data,\n",
    "                training_data)"
   ]
  },
  {
   "cell_type": "markdown",
   "id": "bcc4f873",
   "metadata": {},
   "source": [
    "### Baseline Model"
   ]
  },
  {
   "cell_type": "code",
   "execution_count": 5,
   "id": "95e1180e",
   "metadata": {},
   "outputs": [
    {
     "name": "stdout",
     "output_type": "stream",
     "text": [
      "[['buy', 'guess', 'flow', 'heavy', 'sort', 'thing', 'back', 'tampon']]\n"
     ]
    }
   ],
   "source": [
    "# Create Corpus\n",
    "texts = [doc.split() for doc in training_data]\n",
    "print(texts[:1])\n",
    "\n",
    "# Create Dictionary\n",
    "id2word = corpora.Dictionary(texts)\n",
    "\n",
    "# mallet paths\n",
    "path_to_topic_keys              = output_directory_path + '/mallet.topic_keys.' + str(20) + '.txt'\n",
    "path_to_topic_distributions     = output_directory_path + '/mallet.topic_distributions.' + str(20) + '.txt'"
   ]
  },
  {
   "cell_type": "code",
   "execution_count": 6,
   "id": "03d5b979",
   "metadata": {},
   "outputs": [
    {
     "name": "stdout",
     "output_type": "stream",
     "text": [
      "\n",
      "Coherence Score (Top Words): 0.6430015216940941\n",
      "Wall time: 1min 6s\n"
     ]
    }
   ],
   "source": [
    "%%time\n",
    "train_topic_model(path_to_mallet,\n",
    "                  path_to_formatted_training_data,\n",
    "                  path_to_topic_keys,\n",
    "                  path_to_topic_distributions,\n",
    "                  num_topics = 20,\n",
    "                  interval = 10,\n",
    "                  burnin = 20,\n",
    "                  random_state = 42)\n",
    "\n",
    "# load topic words\n",
    "topic_words = load_topic_words(path_to_topic_keys)\n",
    "\n",
    "# Compute Coherence Score using top 50 words in each topics\n",
    "coherence_model_top_words = models.CoherenceModel(topics=topic_words, texts=texts, dictionary=id2word, coherence='c_v')\n",
    "coherence_score_top_words = coherence_model_top_words.get_coherence()\n",
    "print('\\nCoherence Score (Top Words):', coherence_score_top_words)"
   ]
  },
  {
   "cell_type": "markdown",
   "id": "7f851b53",
   "metadata": {},
   "source": [
    "### Tune LDA"
   ]
  },
  {
   "cell_type": "code",
   "execution_count": 7,
   "id": "275ef756",
   "metadata": {},
   "outputs": [
    {
     "data": {
      "text/plain": [
       "[1897, 8025, 6026]"
      ]
     },
     "execution_count": 7,
     "metadata": {},
     "output_type": "execute_result"
    }
   ],
   "source": [
    "# Seeds Generation\n",
    "seeds = generate_random_seeds(3)\n",
    "seeds"
   ]
  },
  {
   "cell_type": "code",
   "execution_count": 8,
   "id": "9f7af1d6",
   "metadata": {},
   "outputs": [],
   "source": [
    "# Params Grid\n",
    "num_topics = [10, 20, 50]\n",
    "\n",
    "grid = {'interval': [5, 10, 20, 50],\n",
    "        'burnin': [100, 200, 300]}"
   ]
  },
  {
   "cell_type": "code",
   "execution_count": 9,
   "id": "c812159a",
   "metadata": {},
   "outputs": [
    {
     "name": "stderr",
     "output_type": "stream",
     "text": [
      "Total progress: 100%|██████████████████████████████████████████████████████████████| 108/108 [1:51:32<00:00, 61.97s/it]\n"
     ]
    }
   ],
   "source": [
    "df = tune_lda_mallet(path_to_mallet, path_to_formatted_training_data, texts, id2word, num_topics, seeds, grid)"
   ]
  },
  {
   "cell_type": "code",
   "execution_count": 10,
   "id": "3157cd5b",
   "metadata": {},
   "outputs": [
    {
     "data": {
      "text/html": [
       "<div>\n",
       "<style scoped>\n",
       "    .dataframe tbody tr th:only-of-type {\n",
       "        vertical-align: middle;\n",
       "    }\n",
       "\n",
       "    .dataframe tbody tr th {\n",
       "        vertical-align: top;\n",
       "    }\n",
       "\n",
       "    .dataframe thead th {\n",
       "        text-align: right;\n",
       "    }\n",
       "</style>\n",
       "<table border=\"1\" class=\"dataframe\">\n",
       "  <thead>\n",
       "    <tr style=\"text-align: right;\">\n",
       "      <th></th>\n",
       "      <th>num_topics</th>\n",
       "      <th>seed</th>\n",
       "      <th>score</th>\n",
       "      <th>interval</th>\n",
       "      <th>burnin</th>\n",
       "      <th>tests</th>\n",
       "    </tr>\n",
       "  </thead>\n",
       "  <tbody>\n",
       "    <tr>\n",
       "      <th>0</th>\n",
       "      <td>10</td>\n",
       "      <td>1897</td>\n",
       "      <td>0.618147</td>\n",
       "      <td>20</td>\n",
       "      <td>200</td>\n",
       "      <td>{0: {'top 5 sample': ['day', 'pregnant', 'baby...</td>\n",
       "    </tr>\n",
       "    <tr>\n",
       "      <th>1</th>\n",
       "      <td>10</td>\n",
       "      <td>8025</td>\n",
       "      <td>0.633682</td>\n",
       "      <td>50</td>\n",
       "      <td>200</td>\n",
       "      <td>{0: {'top 5 sample': ['test', 'pap', 'pregnanc...</td>\n",
       "    </tr>\n",
       "    <tr>\n",
       "      <th>2</th>\n",
       "      <td>10</td>\n",
       "      <td>6026</td>\n",
       "      <td>0.616574</td>\n",
       "      <td>5</td>\n",
       "      <td>100</td>\n",
       "      <td>{0: {'top 5 sample': ['pad', 'leak', 'feel', '...</td>\n",
       "    </tr>\n",
       "    <tr>\n",
       "      <th>3</th>\n",
       "      <td>20</td>\n",
       "      <td>1897</td>\n",
       "      <td>0.614488</td>\n",
       "      <td>5</td>\n",
       "      <td>300</td>\n",
       "      <td>{0: {'top 5 sample': ['midwife', 'home', 'baby...</td>\n",
       "    </tr>\n",
       "    <tr>\n",
       "      <th>4</th>\n",
       "      <td>20</td>\n",
       "      <td>8025</td>\n",
       "      <td>0.633334</td>\n",
       "      <td>50</td>\n",
       "      <td>100</td>\n",
       "      <td>{0: {'top 5 sample': ['week', 'boy', 'girl', '...</td>\n",
       "    </tr>\n",
       "    <tr>\n",
       "      <th>5</th>\n",
       "      <td>20</td>\n",
       "      <td>6026</td>\n",
       "      <td>0.640129</td>\n",
       "      <td>50</td>\n",
       "      <td>300</td>\n",
       "      <td>{0: {'top 5 sample': ['test', 'result', 'docto...</td>\n",
       "    </tr>\n",
       "    <tr>\n",
       "      <th>6</th>\n",
       "      <td>50</td>\n",
       "      <td>1897</td>\n",
       "      <td>0.635813</td>\n",
       "      <td>50</td>\n",
       "      <td>300</td>\n",
       "      <td>{0: {'top 5 sample': ['mother', 'make', 'life'...</td>\n",
       "    </tr>\n",
       "    <tr>\n",
       "      <th>7</th>\n",
       "      <td>50</td>\n",
       "      <td>8025</td>\n",
       "      <td>0.639538</td>\n",
       "      <td>50</td>\n",
       "      <td>100</td>\n",
       "      <td>{0: {'top 5 sample': ['yeast_infection', 'wate...</td>\n",
       "    </tr>\n",
       "    <tr>\n",
       "      <th>8</th>\n",
       "      <td>50</td>\n",
       "      <td>6026</td>\n",
       "      <td>0.642430</td>\n",
       "      <td>50</td>\n",
       "      <td>300</td>\n",
       "      <td>{0: {'top 5 sample': ['penis', 'foreskin', 'cu...</td>\n",
       "    </tr>\n",
       "  </tbody>\n",
       "</table>\n",
       "</div>"
      ],
      "text/plain": [
       "   num_topics  seed     score  interval  burnin  \\\n",
       "0          10  1897  0.618147        20     200   \n",
       "1          10  8025  0.633682        50     200   \n",
       "2          10  6026  0.616574         5     100   \n",
       "3          20  1897  0.614488         5     300   \n",
       "4          20  8025  0.633334        50     100   \n",
       "5          20  6026  0.640129        50     300   \n",
       "6          50  1897  0.635813        50     300   \n",
       "7          50  8025  0.639538        50     100   \n",
       "8          50  6026  0.642430        50     300   \n",
       "\n",
       "                                               tests  \n",
       "0  {0: {'top 5 sample': ['day', 'pregnant', 'baby...  \n",
       "1  {0: {'top 5 sample': ['test', 'pap', 'pregnanc...  \n",
       "2  {0: {'top 5 sample': ['pad', 'leak', 'feel', '...  \n",
       "3  {0: {'top 5 sample': ['midwife', 'home', 'baby...  \n",
       "4  {0: {'top 5 sample': ['week', 'boy', 'girl', '...  \n",
       "5  {0: {'top 5 sample': ['test', 'result', 'docto...  \n",
       "6  {0: {'top 5 sample': ['mother', 'make', 'life'...  \n",
       "7  {0: {'top 5 sample': ['yeast_infection', 'wate...  \n",
       "8  {0: {'top 5 sample': ['penis', 'foreskin', 'cu...  "
      ]
     },
     "execution_count": 10,
     "metadata": {},
     "output_type": "execute_result"
    }
   ],
   "source": [
    "df"
   ]
  },
  {
   "cell_type": "markdown",
   "id": "6c1221c9",
   "metadata": {},
   "source": [
    "### Save Results"
   ]
  },
  {
   "cell_type": "code",
   "execution_count": 11,
   "id": "aa71e12e",
   "metadata": {},
   "outputs": [],
   "source": [
    "path ='../../res/mallet_test.csv'\n",
    "\n",
    "df_to_csv(df, path)"
   ]
  },
  {
   "cell_type": "code",
   "execution_count": null,
   "id": "844ae60b",
   "metadata": {},
   "outputs": [],
   "source": []
  }
 ],
 "metadata": {
  "kernelspec": {
   "display_name": "Python 3 (ipykernel)",
   "language": "python",
   "name": "python3"
  },
  "language_info": {
   "codemirror_mode": {
    "name": "ipython",
    "version": 3
   },
   "file_extension": ".py",
   "mimetype": "text/x-python",
   "name": "python",
   "nbconvert_exporter": "python",
   "pygments_lexer": "ipython3",
   "version": "3.9.12"
  }
 },
 "nbformat": 4,
 "nbformat_minor": 5
}
