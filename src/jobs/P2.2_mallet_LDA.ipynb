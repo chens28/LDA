{
 "cells": [
  {
   "cell_type": "markdown",
   "id": "3d7893ff",
   "metadata": {},
   "source": [
    "# Part II: Mallet LDA"
   ]
  },
  {
   "cell_type": "code",
   "execution_count": 1,
   "id": "6042a6ae",
   "metadata": {},
   "outputs": [],
   "source": [
    "# run functions notbook\n",
    "%run ../functions/mallet_functions.ipynb"
   ]
  },
  {
   "cell_type": "markdown",
   "id": "4d21135f",
   "metadata": {},
   "source": [
    "### Load Processed Texts"
   ]
  },
  {
   "cell_type": "code",
   "execution_count": 2,
   "id": "94b147ee",
   "metadata": {},
   "outputs": [
    {
     "name": "stdout",
     "output_type": "stream",
     "text": [
      "['buy guess flow heavy sort thing back tampon']\n",
      "24510\n"
     ]
    }
   ],
   "source": [
    "file_path = \"../../data/train_clean.txt\"\n",
    "        \n",
    "training_data = load_processed_text(file_path)\n",
    "print(training_data[:1])\n",
    "print(len(training_data))"
   ]
  },
  {
   "cell_type": "markdown",
   "id": "5a200204",
   "metadata": {},
   "source": [
    "### Mallet Setup"
   ]
  },
  {
   "cell_type": "code",
   "execution_count": 3,
   "id": "02d64c3d",
   "metadata": {},
   "outputs": [],
   "source": [
    "path_to_mallet = 'C:/mallet/bin/mallet'  # CHANGE THIS TO YOUR MALLET PATH\n",
    "output_directory_path = 'C:/mallet/lda-data' # CHANGE THIS TO YOUR OUTPUT DIRECTORY\n",
    "\n",
    "path_to_training_data           = output_directory_path + '/training.txt'\n",
    "path_to_formatted_training_data = output_directory_path + '/mallet.training'"
   ]
  },
  {
   "cell_type": "code",
   "execution_count": 4,
   "id": "894a0137",
   "metadata": {},
   "outputs": [
    {
     "name": "stdout",
     "output_type": "stream",
     "text": [
      "Importing data...\n",
      "Complete\n"
     ]
    }
   ],
   "source": [
    "import_data(path_to_mallet,\n",
    "                path_to_training_data,\n",
    "                path_to_formatted_training_data,\n",
    "                training_data)"
   ]
  },
  {
   "cell_type": "markdown",
   "id": "179a91f4",
   "metadata": {},
   "source": [
    "### Baseline Model"
   ]
  },
  {
   "cell_type": "code",
   "execution_count": 5,
   "id": "c4aff68c",
   "metadata": {},
   "outputs": [
    {
     "name": "stdout",
     "output_type": "stream",
     "text": [
      "[['buy', 'guess', 'flow', 'heavy', 'sort', 'thing', 'back', 'tampon']]\n"
     ]
    }
   ],
   "source": [
    "# Create Corpus\n",
    "texts = [doc.split() for doc in training_data]\n",
    "print(texts[:1])\n",
    "\n",
    "# Create Dictionary\n",
    "id2word = corpora.Dictionary(texts)\n",
    "\n",
    "# mallet paths\n",
    "path_to_topic_keys              = output_directory_path + '/mallet.topic_keys.' + str(20) + '.txt'\n",
    "path_to_topic_distributions     = output_directory_path + '/mallet.topic_distributions.' + str(20) + '.txt'"
   ]
  },
  {
   "cell_type": "code",
   "execution_count": 6,
   "id": "d53ced20",
   "metadata": {},
   "outputs": [
    {
     "name": "stdout",
     "output_type": "stream",
     "text": [
      "\n",
      "Coherence Score (Top Words): 0.6430015216940941\n",
      "Wall time: 1min 6s\n"
     ]
    }
   ],
   "source": [
    "%%time\n",
    "train_topic_model(path_to_mallet,\n",
    "                  path_to_formatted_training_data,\n",
    "                  path_to_topic_keys,\n",
    "                  path_to_topic_distributions,\n",
    "                  num_topics = 20,\n",
    "                  interval = 10,\n",
    "                  burnin = 20,\n",
    "                  random_state = 42)\n",
    "\n",
    "# load topic words\n",
    "topic_words = load_topic_words(path_to_topic_keys)\n",
    "\n",
    "# Compute Coherence Score using top 50 words in each topics\n",
    "coherence_model_top_words = models.CoherenceModel(topics=topic_words, texts=texts, dictionary=id2word, coherence='c_v')\n",
    "coherence_score_top_words = coherence_model_top_words.get_coherence()\n",
    "print('\\nCoherence Score (Top Words):', coherence_score_top_words)"
   ]
  },
  {
   "cell_type": "markdown",
   "id": "cc513fe3",
   "metadata": {},
   "source": [
    "### Tune LDA"
   ]
  },
  {
   "cell_type": "code",
   "execution_count": 7,
   "id": "34453658",
   "metadata": {},
   "outputs": [
    {
     "data": {
      "text/plain": [
       "[1897, 8025, 6026]"
      ]
     },
     "execution_count": 7,
     "metadata": {},
     "output_type": "execute_result"
    }
   ],
   "source": [
    "# Seeds Generation\n",
    "seeds = generate_random_seeds(3)\n",
    "seeds"
   ]
  },
  {
   "cell_type": "code",
   "execution_count": 8,
   "id": "e5da96b8",
   "metadata": {},
   "outputs": [],
   "source": [
    "# Params Grid\n",
    "num_topics = [10, 20, 50]\n",
    "\n",
    "grid = {'interval': [5, 10, 20, 50],\n",
    "        'burnin': [100, 200, 300]}"
   ]
  },
  {
   "cell_type": "code",
   "execution_count": null,
   "id": "00ae9f88",
   "metadata": {},
   "outputs": [
    {
     "name": "stderr",
     "output_type": "stream",
     "text": [
      "Total progress:  59%|█████████████████████████████████████▎                         | 64/108 [1:04:01<44:02, 60.06s/it]"
     ]
    }
   ],
   "source": [
    "df = tune_lda_mallet(path_to_mallet, path_to_formatted_training_data, texts, id2word, num_topics, seeds, grid)"
   ]
  },
  {
   "cell_type": "code",
   "execution_count": null,
   "id": "fbc6096a",
   "metadata": {},
   "outputs": [],
   "source": [
    "df"
   ]
  },
  {
   "cell_type": "markdown",
   "id": "b9b7af06",
   "metadata": {},
   "source": [
    "### Save Results"
   ]
  },
  {
   "cell_type": "code",
   "execution_count": null,
   "id": "6c2ca1ef",
   "metadata": {},
   "outputs": [],
   "source": [
    "path ='../../res/mallet_test.csv'\n",
    "\n",
    "df_to_csv(df, path)"
   ]
  },
  {
   "cell_type": "code",
   "execution_count": null,
   "id": "f46cda5e",
   "metadata": {},
   "outputs": [],
   "source": []
  }
 ],
 "metadata": {
  "kernelspec": {
   "display_name": "Python 3 (ipykernel)",
   "language": "python",
   "name": "python3"
  },
  "language_info": {
   "codemirror_mode": {
    "name": "ipython",
    "version": 3
   },
   "file_extension": ".py",
   "mimetype": "text/x-python",
   "name": "python",
   "nbconvert_exporter": "python",
   "pygments_lexer": "ipython3",
   "version": "3.9.12"
  }
 },
 "nbformat": 4,
 "nbformat_minor": 5
}
