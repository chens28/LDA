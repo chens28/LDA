{
 "cells": [
  {
   "cell_type": "markdown",
   "id": "7668fefa",
   "metadata": {},
   "source": [
    "# Part II: Mallet LDA"
   ]
  },
  {
   "cell_type": "code",
   "execution_count": 1,
   "id": "7ba215a9",
   "metadata": {},
   "outputs": [],
   "source": [
    "# run functions notbook\n",
    "%run ../functions/mallet_functions.ipynb"
   ]
  },
  {
   "cell_type": "markdown",
   "id": "92b92b8b",
   "metadata": {},
   "source": [
    "### Load Processed Texts"
   ]
  },
  {
   "cell_type": "code",
   "execution_count": 2,
   "id": "c477b0db",
   "metadata": {},
   "outputs": [
    {
     "name": "stdout",
     "output_type": "stream",
     "text": [
      "['buy guess flow heavy sort thing back tampon']\n",
      "24510\n"
     ]
    }
   ],
   "source": [
    "file_path = \"../../data/train_clean.txt\"\n",
    "        \n",
    "training_data = load_processed_text(file_path)\n",
    "print(training_data[:1])\n",
    "print(len(training_data))"
   ]
  },
  {
   "cell_type": "markdown",
   "id": "1f04c4cc",
   "metadata": {},
   "source": [
    "### Mallet Setup"
   ]
  },
  {
   "cell_type": "code",
   "execution_count": 3,
   "id": "34d833b9",
   "metadata": {},
   "outputs": [],
   "source": [
    "path_to_mallet = 'C:/mallet/bin/mallet'  # CHANGE THIS TO YOUR MALLET PATH\n",
    "output_directory_path = 'C:/mallet/lda-data' # CHANGE THIS TO YOUR OUTPUT DIRECTORY\n",
    "\n",
    "path_to_training_data           = output_directory_path + '/training.txt'\n",
    "path_to_formatted_training_data = output_directory_path + '/mallet.training'"
   ]
  },
  {
   "cell_type": "code",
   "execution_count": 4,
   "id": "0ef86643",
   "metadata": {},
   "outputs": [
    {
     "name": "stdout",
     "output_type": "stream",
     "text": [
      "Importing data...\n",
      "Complete\n"
     ]
    }
   ],
   "source": [
    "import_data(path_to_mallet,\n",
    "                path_to_training_data,\n",
    "                path_to_formatted_training_data,\n",
    "                training_data)"
   ]
  },
  {
   "cell_type": "markdown",
   "id": "bcc4f873",
   "metadata": {},
   "source": [
    "### Baseline Model"
   ]
  },
  {
   "cell_type": "code",
   "execution_count": 5,
   "id": "95e1180e",
   "metadata": {},
   "outputs": [
    {
     "name": "stdout",
     "output_type": "stream",
     "text": [
      "[['buy', 'guess', 'flow', 'heavy', 'sort', 'thing', 'back', 'tampon']]\n"
     ]
    }
   ],
   "source": [
    "# Create Corpus\n",
    "texts = [doc.split() for doc in training_data]\n",
    "print(texts[:1])\n",
    "\n",
    "# Create Dictionary\n",
    "id2word = corpora.Dictionary(texts)\n",
    "\n",
    "# mallet paths\n",
    "path_to_topic_keys              = output_directory_path + '/mallet.topic_keys.' + str(20) + '.txt'\n",
    "path_to_topic_distributions     = output_directory_path + '/mallet.topic_distributions.' + str(20) + '.txt'"
   ]
  },
  {
   "cell_type": "code",
   "execution_count": 6,
   "id": "03d5b979",
   "metadata": {},
   "outputs": [
    {
     "name": "stdout",
     "output_type": "stream",
     "text": [
      "\n",
      "Coherence Score (Top Words): 0.6430015216940941\n",
      "Wall time: 1min 1s\n"
     ]
    }
   ],
   "source": [
    "%%time\n",
    "train_topic_model(path_to_mallet,\n",
    "                  path_to_formatted_training_data,\n",
    "                  path_to_topic_keys,\n",
    "                  path_to_topic_distributions,\n",
    "                  num_topics = 20,\n",
    "                  interval = 10,\n",
    "                  burnin = 20,\n",
    "                  random_state = 42)\n",
    "\n",
    "# load topic words\n",
    "topic_words = load_topic_words(path_to_topic_keys)\n",
    "\n",
    "# Compute Coherence Score using top 50 words in each topics\n",
    "coherence_model_top_words = models.CoherenceModel(topics=topic_words, texts=texts, dictionary=id2word, coherence='c_v')\n",
    "coherence_score_top_words = coherence_model_top_words.get_coherence()\n",
    "print('\\nCoherence Score (Top Words):', coherence_score_top_words)"
   ]
  },
  {
   "cell_type": "markdown",
   "id": "7f851b53",
   "metadata": {},
   "source": [
    "### Tune LDA"
   ]
  },
  {
   "cell_type": "code",
   "execution_count": 7,
   "id": "275ef756",
   "metadata": {},
   "outputs": [
    {
     "data": {
      "text/plain": [
       "[7097, 5301, 8687, 3433, 511]"
      ]
     },
     "execution_count": 7,
     "metadata": {},
     "output_type": "execute_result"
    }
   ],
   "source": [
    "# Seeds Generation\n",
    "seeds = generate_random_seeds(5)\n",
    "seeds"
   ]
  },
  {
   "cell_type": "code",
   "execution_count": 8,
   "id": "9f7af1d6",
   "metadata": {},
   "outputs": [],
   "source": [
    "# Params Grid\n",
    "num_topics = [10, 20, 50, 100]\n",
    "\n",
    "grid = {'interval': [5, 10, 20, 50, 100],\n",
    "        'burnin': [50, 100, 200, 500]}"
   ]
  },
  {
   "cell_type": "code",
   "execution_count": 9,
   "id": "c812159a",
   "metadata": {},
   "outputs": [
    {
     "name": "stderr",
     "output_type": "stream",
     "text": [
      "Total progress: 100%|██████████████████████████████████████████████████████████████| 400/400 [7:20:48<00:00, 66.12s/it]\n"
     ]
    }
   ],
   "source": [
    "df = tune_lda_mallet(path_to_mallet, path_to_formatted_training_data, texts, id2word, num_topics, seeds, grid)"
   ]
  },
  {
   "cell_type": "code",
   "execution_count": 10,
   "id": "3157cd5b",
   "metadata": {},
   "outputs": [
    {
     "data": {
      "text/html": [
       "<div>\n",
       "<style scoped>\n",
       "    .dataframe tbody tr th:only-of-type {\n",
       "        vertical-align: middle;\n",
       "    }\n",
       "\n",
       "    .dataframe tbody tr th {\n",
       "        vertical-align: top;\n",
       "    }\n",
       "\n",
       "    .dataframe thead th {\n",
       "        text-align: right;\n",
       "    }\n",
       "</style>\n",
       "<table border=\"1\" class=\"dataframe\">\n",
       "  <thead>\n",
       "    <tr style=\"text-align: right;\">\n",
       "      <th></th>\n",
       "      <th>num_topics</th>\n",
       "      <th>seed</th>\n",
       "      <th>score</th>\n",
       "      <th>interval</th>\n",
       "      <th>burnin</th>\n",
       "      <th>tests</th>\n",
       "    </tr>\n",
       "  </thead>\n",
       "  <tbody>\n",
       "    <tr>\n",
       "      <th>0</th>\n",
       "      <td>10</td>\n",
       "      <td>7097</td>\n",
       "      <td>0.619082</td>\n",
       "      <td>5</td>\n",
       "      <td>100</td>\n",
       "      <td>{0: {'top 5 sample': ['milk', 'feed', 'month',...</td>\n",
       "    </tr>\n",
       "    <tr>\n",
       "      <th>1</th>\n",
       "      <td>10</td>\n",
       "      <td>5301</td>\n",
       "      <td>0.632168</td>\n",
       "      <td>100</td>\n",
       "      <td>100</td>\n",
       "      <td>{0: {'top 5 sample': ['pregnant', 'day', 'week...</td>\n",
       "    </tr>\n",
       "    <tr>\n",
       "      <th>2</th>\n",
       "      <td>10</td>\n",
       "      <td>8687</td>\n",
       "      <td>0.638164</td>\n",
       "      <td>100</td>\n",
       "      <td>500</td>\n",
       "      <td>{0: {'top 5 sample': ['breastfeed', 'milk', 'f...</td>\n",
       "    </tr>\n",
       "    <tr>\n",
       "      <th>3</th>\n",
       "      <td>10</td>\n",
       "      <td>3433</td>\n",
       "      <td>0.624600</td>\n",
       "      <td>100</td>\n",
       "      <td>500</td>\n",
       "      <td>{0: {'top 5 sample': ['time', 'make', 'orgasm'...</td>\n",
       "    </tr>\n",
       "    <tr>\n",
       "      <th>4</th>\n",
       "      <td>10</td>\n",
       "      <td>511</td>\n",
       "      <td>0.626687</td>\n",
       "      <td>100</td>\n",
       "      <td>200</td>\n",
       "      <td>{0: {'top 5 sample': ['abortion', 'mother', 'f...</td>\n",
       "    </tr>\n",
       "    <tr>\n",
       "      <th>5</th>\n",
       "      <td>20</td>\n",
       "      <td>7097</td>\n",
       "      <td>0.646652</td>\n",
       "      <td>100</td>\n",
       "      <td>500</td>\n",
       "      <td>{0: {'top 5 sample': ['day', 'make', 'help', '...</td>\n",
       "    </tr>\n",
       "    <tr>\n",
       "      <th>6</th>\n",
       "      <td>20</td>\n",
       "      <td>5301</td>\n",
       "      <td>0.645397</td>\n",
       "      <td>100</td>\n",
       "      <td>200</td>\n",
       "      <td>{0: {'top 5 sample': ['time', 'start', 'feel',...</td>\n",
       "    </tr>\n",
       "    <tr>\n",
       "      <th>7</th>\n",
       "      <td>20</td>\n",
       "      <td>8687</td>\n",
       "      <td>0.644444</td>\n",
       "      <td>10</td>\n",
       "      <td>100</td>\n",
       "      <td>{0: {'top 5 sample': ['baby', 'epidural', 'con...</td>\n",
       "    </tr>\n",
       "    <tr>\n",
       "      <th>8</th>\n",
       "      <td>20</td>\n",
       "      <td>3433</td>\n",
       "      <td>0.632472</td>\n",
       "      <td>100</td>\n",
       "      <td>500</td>\n",
       "      <td>{0: {'top 5 sample': ['feel', 'make', 'pregnan...</td>\n",
       "    </tr>\n",
       "    <tr>\n",
       "      <th>9</th>\n",
       "      <td>20</td>\n",
       "      <td>511</td>\n",
       "      <td>0.646027</td>\n",
       "      <td>100</td>\n",
       "      <td>500</td>\n",
       "      <td>{0: {'top 5 sample': ['gain', 'pregnancy', 'we...</td>\n",
       "    </tr>\n",
       "    <tr>\n",
       "      <th>10</th>\n",
       "      <td>50</td>\n",
       "      <td>7097</td>\n",
       "      <td>0.639054</td>\n",
       "      <td>100</td>\n",
       "      <td>100</td>\n",
       "      <td>{0: {'top 5 sample': ['start', 'baby', 'day', ...</td>\n",
       "    </tr>\n",
       "    <tr>\n",
       "      <th>11</th>\n",
       "      <td>50</td>\n",
       "      <td>5301</td>\n",
       "      <td>0.640971</td>\n",
       "      <td>5</td>\n",
       "      <td>100</td>\n",
       "      <td>{0: {'top 5 sample': ['test', 'problem', 'doct...</td>\n",
       "    </tr>\n",
       "    <tr>\n",
       "      <th>12</th>\n",
       "      <td>50</td>\n",
       "      <td>8687</td>\n",
       "      <td>0.641022</td>\n",
       "      <td>100</td>\n",
       "      <td>500</td>\n",
       "      <td>{0: {'top 5 sample': ['human', 'kill', 'person...</td>\n",
       "    </tr>\n",
       "    <tr>\n",
       "      <th>13</th>\n",
       "      <td>50</td>\n",
       "      <td>3433</td>\n",
       "      <td>0.643896</td>\n",
       "      <td>50</td>\n",
       "      <td>50</td>\n",
       "      <td>{0: {'top 5 sample': ['antibiotic', 'yeast', '...</td>\n",
       "    </tr>\n",
       "    <tr>\n",
       "      <th>14</th>\n",
       "      <td>50</td>\n",
       "      <td>511</td>\n",
       "      <td>0.635056</td>\n",
       "      <td>50</td>\n",
       "      <td>500</td>\n",
       "      <td>{0: {'top 5 sample': ['pregnancy', 'stress', '...</td>\n",
       "    </tr>\n",
       "    <tr>\n",
       "      <th>15</th>\n",
       "      <td>100</td>\n",
       "      <td>7097</td>\n",
       "      <td>0.617878</td>\n",
       "      <td>100</td>\n",
       "      <td>500</td>\n",
       "      <td>{0: {'top 5 sample': ['sexual_harassment', 'ph...</td>\n",
       "    </tr>\n",
       "    <tr>\n",
       "      <th>16</th>\n",
       "      <td>100</td>\n",
       "      <td>5301</td>\n",
       "      <td>0.610395</td>\n",
       "      <td>50</td>\n",
       "      <td>200</td>\n",
       "      <td>{0: {'top 5 sample': ['cervix', 'day', 'week',...</td>\n",
       "    </tr>\n",
       "    <tr>\n",
       "      <th>17</th>\n",
       "      <td>100</td>\n",
       "      <td>8687</td>\n",
       "      <td>0.619984</td>\n",
       "      <td>50</td>\n",
       "      <td>100</td>\n",
       "      <td>{0: {'top 5 sample': ['feel', 'lot', 'hurt', '...</td>\n",
       "    </tr>\n",
       "    <tr>\n",
       "      <th>18</th>\n",
       "      <td>100</td>\n",
       "      <td>3433</td>\n",
       "      <td>0.616891</td>\n",
       "      <td>100</td>\n",
       "      <td>100</td>\n",
       "      <td>{0: {'top 5 sample': ['pregnancy', 'baby', 'be...</td>\n",
       "    </tr>\n",
       "    <tr>\n",
       "      <th>19</th>\n",
       "      <td>100</td>\n",
       "      <td>511</td>\n",
       "      <td>0.620777</td>\n",
       "      <td>100</td>\n",
       "      <td>100</td>\n",
       "      <td>{0: {'top 5 sample': ['circumcision', 'cut', '...</td>\n",
       "    </tr>\n",
       "  </tbody>\n",
       "</table>\n",
       "</div>"
      ],
      "text/plain": [
       "    num_topics  seed     score  interval  burnin  \\\n",
       "0           10  7097  0.619082         5     100   \n",
       "1           10  5301  0.632168       100     100   \n",
       "2           10  8687  0.638164       100     500   \n",
       "3           10  3433  0.624600       100     500   \n",
       "4           10   511  0.626687       100     200   \n",
       "5           20  7097  0.646652       100     500   \n",
       "6           20  5301  0.645397       100     200   \n",
       "7           20  8687  0.644444        10     100   \n",
       "8           20  3433  0.632472       100     500   \n",
       "9           20   511  0.646027       100     500   \n",
       "10          50  7097  0.639054       100     100   \n",
       "11          50  5301  0.640971         5     100   \n",
       "12          50  8687  0.641022       100     500   \n",
       "13          50  3433  0.643896        50      50   \n",
       "14          50   511  0.635056        50     500   \n",
       "15         100  7097  0.617878       100     500   \n",
       "16         100  5301  0.610395        50     200   \n",
       "17         100  8687  0.619984        50     100   \n",
       "18         100  3433  0.616891       100     100   \n",
       "19         100   511  0.620777       100     100   \n",
       "\n",
       "                                                tests  \n",
       "0   {0: {'top 5 sample': ['milk', 'feed', 'month',...  \n",
       "1   {0: {'top 5 sample': ['pregnant', 'day', 'week...  \n",
       "2   {0: {'top 5 sample': ['breastfeed', 'milk', 'f...  \n",
       "3   {0: {'top 5 sample': ['time', 'make', 'orgasm'...  \n",
       "4   {0: {'top 5 sample': ['abortion', 'mother', 'f...  \n",
       "5   {0: {'top 5 sample': ['day', 'make', 'help', '...  \n",
       "6   {0: {'top 5 sample': ['time', 'start', 'feel',...  \n",
       "7   {0: {'top 5 sample': ['baby', 'epidural', 'con...  \n",
       "8   {0: {'top 5 sample': ['feel', 'make', 'pregnan...  \n",
       "9   {0: {'top 5 sample': ['gain', 'pregnancy', 'we...  \n",
       "10  {0: {'top 5 sample': ['start', 'baby', 'day', ...  \n",
       "11  {0: {'top 5 sample': ['test', 'problem', 'doct...  \n",
       "12  {0: {'top 5 sample': ['human', 'kill', 'person...  \n",
       "13  {0: {'top 5 sample': ['antibiotic', 'yeast', '...  \n",
       "14  {0: {'top 5 sample': ['pregnancy', 'stress', '...  \n",
       "15  {0: {'top 5 sample': ['sexual_harassment', 'ph...  \n",
       "16  {0: {'top 5 sample': ['cervix', 'day', 'week',...  \n",
       "17  {0: {'top 5 sample': ['feel', 'lot', 'hurt', '...  \n",
       "18  {0: {'top 5 sample': ['pregnancy', 'baby', 'be...  \n",
       "19  {0: {'top 5 sample': ['circumcision', 'cut', '...  "
      ]
     },
     "execution_count": 10,
     "metadata": {},
     "output_type": "execute_result"
    }
   ],
   "source": [
    "df"
   ]
  },
  {
   "cell_type": "markdown",
   "id": "6c1221c9",
   "metadata": {},
   "source": [
    "### Save Results"
   ]
  },
  {
   "cell_type": "code",
   "execution_count": 11,
   "id": "aa71e12e",
   "metadata": {},
   "outputs": [],
   "source": [
    "path ='../../res/mallet_test.csv'\n",
    "\n",
    "df_to_csv(df, path)"
   ]
  },
  {
   "cell_type": "code",
   "execution_count": null,
   "id": "844ae60b",
   "metadata": {},
   "outputs": [],
   "source": []
  }
 ],
 "metadata": {
  "kernelspec": {
   "display_name": "Python 3 (ipykernel)",
   "language": "python",
   "name": "python3"
  },
  "language_info": {
   "codemirror_mode": {
    "name": "ipython",
    "version": 3
   },
   "file_extension": ".py",
   "mimetype": "text/x-python",
   "name": "python",
   "nbconvert_exporter": "python",
   "pygments_lexer": "ipython3",
   "version": "3.9.12"
  }
 },
 "nbformat": 4,
 "nbformat_minor": 5
}
