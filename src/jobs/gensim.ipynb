{
 "cells": [
  {
   "cell_type": "markdown",
   "id": "a98e7a15",
   "metadata": {},
   "source": [
    "# Part II: Gensim"
   ]
  },
  {
   "cell_type": "code",
   "execution_count": 1,
   "id": "41efdedd",
   "metadata": {},
   "outputs": [],
   "source": [
    "import numpy as np\n",
    "import pandas as pd\n",
    "import os\n",
    "import shutil\n",
    "import json\n",
    "import gensim\n",
    "from gensim import corpora, models\n",
    "import spacy\n",
    "import nltk\n",
    "from nltk.corpus import stopwords\n",
    "from nltk.stem import WordNetLemmatizer"
   ]
  },
  {
   "cell_type": "code",
   "execution_count": 2,
   "id": "7b4cdabe",
   "metadata": {},
   "outputs": [],
   "source": [
    "# run functions notbook\n",
    "%run ../functions/gensim_functions.ipynb"
   ]
  },
  {
   "cell_type": "code",
   "execution_count": 3,
   "id": "e7bc221a",
   "metadata": {
    "scrolled": false
   },
   "outputs": [
    {
     "name": "stdout",
     "output_type": "stream",
     "text": [
      "[['buy', 'guess', 'flow', 'heavy', 'sort', 'thing', 'back', 'tampon']]\n"
     ]
    }
   ],
   "source": [
    "file_path = \"../../data/train_clean.txt\"\n",
    "        \n",
    "processed_ngrams = load_processed_text(file_path)\n",
    "print(processed_ngrams[:1])"
   ]
  },
  {
   "cell_type": "markdown",
   "id": "1280cf85",
   "metadata": {},
   "source": [
    "### K=10"
   ]
  },
  {
   "cell_type": "code",
   "execution_count": null,
   "id": "80c41204",
   "metadata": {},
   "outputs": [],
   "source": [
    "grid = {'alpha': ['auto', 0.01, 0.1, 1.0],  # Example values for alpha\n",
    "        'eta': ['auto', 0.01, 0.1, 1.0]  # Example values for eta}\n",
    "\n",
    "best_model = None\n",
    "best_score = float('inf')  # Initialize with a large value for minimization tasks\n",
    "\n",
    "# Perform grid search\n",
    "for num_topics in grid['num_topics']:\n",
    "    for alpha in grid['alpha']:\n",
    "        for eta in grid['eta']:\n",
    "            # Train LDA model\n",
    "            lda_model = gensim.models.ldamodel.LdaModel(corpus=corpus,\n",
    "                                                        id2word=id2word,\n",
    "                                                        num_topics=num_topics,\n",
    "                                                        alpha=alpha,\n",
    "                                                        eta=eta,\n",
    "                                                        random_state=42,\n",
    "                                                        update_every=1,\n",
    "                                                        chunksize=100,\n",
    "                                                        passes=10,\n",
    "                                                        per_word_topics=True)\n",
    "            # Evaluate model (you can use perplexity or coherence)\n",
    "            score = lda_model.log_perplexity(corpus)\n",
    "            \n",
    "            # Update best model if the current model is better\n",
    "            if score < best_score:\n",
    "                best_score = score\n",
    "                best_model = lda_model\n",
    "\n",
    "print(\"Best Model Perplexity:\", best_score)\n",
    "print(\"Best Model Num Topics:\", best_model.num_topics)\n",
    "print(\"Best Model Alpha:\", best_model.alpha)\n",
    "print(\"Best Model Eta:\", best_model.eta)\n"
   ]
  },
  {
   "cell_type": "code",
   "execution_count": null,
   "id": "46dbee43",
   "metadata": {},
   "outputs": [],
   "source": []
  },
  {
   "cell_type": "code",
   "execution_count": null,
   "id": "5b245da1",
   "metadata": {},
   "outputs": [],
   "source": [
    "### K=20"
   ]
  },
  {
   "cell_type": "code",
   "execution_count": null,
   "id": "af1cd13c",
   "metadata": {},
   "outputs": [],
   "source": []
  },
  {
   "cell_type": "code",
   "execution_count": null,
   "id": "48e41933",
   "metadata": {},
   "outputs": [],
   "source": [
    "### K=50"
   ]
  },
  {
   "cell_type": "code",
   "execution_count": null,
   "id": "dd3ccd6c",
   "metadata": {},
   "outputs": [],
   "source": []
  },
  {
   "cell_type": "code",
   "execution_count": null,
   "id": "d7661e5a",
   "metadata": {},
   "outputs": [],
   "source": []
  },
  {
   "cell_type": "code",
   "execution_count": null,
   "id": "301e9050",
   "metadata": {},
   "outputs": [],
   "source": []
  },
  {
   "cell_type": "code",
   "execution_count": null,
   "id": "c681453b",
   "metadata": {},
   "outputs": [],
   "source": [
    "### K=100"
   ]
  },
  {
   "cell_type": "code",
   "execution_count": null,
   "id": "f0f81cfa",
   "metadata": {},
   "outputs": [],
   "source": []
  }
 ],
 "metadata": {
  "kernelspec": {
   "display_name": "Python 3 (ipykernel)",
   "language": "python",
   "name": "python3"
  },
  "language_info": {
   "codemirror_mode": {
    "name": "ipython",
    "version": 3
   },
   "file_extension": ".py",
   "mimetype": "text/x-python",
   "name": "python",
   "nbconvert_exporter": "python",
   "pygments_lexer": "ipython3",
   "version": "3.9.12"
  }
 },
 "nbformat": 4,
 "nbformat_minor": 5
}
