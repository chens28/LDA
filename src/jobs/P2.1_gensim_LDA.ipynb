{
 "cells": [
  {
   "cell_type": "markdown",
   "id": "9962e1b7",
   "metadata": {},
   "source": [
    "# Part II: Gensim LDA"
   ]
  },
  {
   "cell_type": "code",
   "execution_count": 1,
   "id": "9e11a9e3",
   "metadata": {},
   "outputs": [],
   "source": [
    "# run functions notbook\n",
    "%run ../functions/gensim_functions.ipynb"
   ]
  },
  {
   "cell_type": "markdown",
   "id": "ffae149a",
   "metadata": {},
   "source": [
    "### Load Processed Texts"
   ]
  },
  {
   "cell_type": "code",
   "execution_count": 2,
   "id": "56df97d1",
   "metadata": {
    "scrolled": false
   },
   "outputs": [
    {
     "name": "stdout",
     "output_type": "stream",
     "text": [
      "[['buy', 'guess', 'flow', 'heavy', 'sort', 'thing', 'back', 'tampon']]\n",
      "24510\n"
     ]
    }
   ],
   "source": [
    "file_path = \"../../data/train_clean.txt\"\n",
    "        \n",
    "processed_ngrams = load_processed_text(file_path)\n",
    "print(processed_ngrams[:1])\n",
    "print(len(processed_ngrams))"
   ]
  },
  {
   "cell_type": "markdown",
   "id": "bade9d4a",
   "metadata": {},
   "source": [
    "### Baseline Model"
   ]
  },
  {
   "cell_type": "code",
   "execution_count": 3,
   "id": "bb0bac19",
   "metadata": {},
   "outputs": [],
   "source": [
    "# Create Dictionary\n",
    "id2word = corpora.Dictionary(processed_ngrams)\n",
    "\n",
    "# Create Corpus\n",
    "texts = processed_ngrams\n",
    "\n",
    "# Term Document Frequency\n",
    "corpus = [id2word.doc2bow(text) for text in texts]"
   ]
  },
  {
   "cell_type": "code",
   "execution_count": 4,
   "id": "f1019074",
   "metadata": {},
   "outputs": [
    {
     "name": "stdout",
     "output_type": "stream",
     "text": [
      "\n",
      "Coherence Score: 0.5294372097749029\n",
      "Wall time: 1min 4s\n"
     ]
    }
   ],
   "source": [
    "%%time\n",
    "# LDA Model\n",
    "model = models.ldamodel.LdaModel(\n",
    "    corpus=corpus,\n",
    "    id2word=id2word,\n",
    "    num_topics=20,\n",
    "    random_state=42,\n",
    "    chunksize=1000,\n",
    "    passes=10,\n",
    "    iterations=50,\n",
    "    update_every = 1,\n",
    "    alpha='auto',\n",
    "    eta='auto',  \n",
    "    eval_every=None # helps to train faster\n",
    ")\n",
    "\n",
    "# Compute Coherence Score\n",
    "coherence_model = models.CoherenceModel(model=model, texts=processed_ngrams, dictionary=id2word, coherence='c_v')\n",
    "coherence_score = coherence_model.get_coherence()\n",
    "print('\\nCoherence Score:', coherence_score)"
   ]
  },
  {
   "cell_type": "code",
   "execution_count": 5,
   "id": "da8e8105",
   "metadata": {},
   "outputs": [
    {
     "name": "stdout",
     "output_type": "stream",
     "text": [
      "\n",
      "Coherence Score (Top Words): 0.5294372097749029\n",
      "Wall time: 12.2 s\n"
     ]
    }
   ],
   "source": [
    "%%time\n",
    "# Extract top 50 words for each topic and create texts representing top words for each topic\n",
    "top_words_texts = [[word for word, _ in model.show_topic(i, topn=50)] for i in range(20)]\n",
    "top_words_texts\n",
    "\n",
    "# Compute Coherence Score using top 50 words in each topics\n",
    "coherence_model_top_words = models.CoherenceModel(topics=top_words_texts, texts=texts, dictionary=id2word, coherence='c_v')\n",
    "coherence_score_top_words = coherence_model_top_words.get_coherence()\n",
    "print('\\nCoherence Score (Top Words):', coherence_score_top_words)"
   ]
  },
  {
   "cell_type": "markdown",
   "id": "4e2abadd",
   "metadata": {},
   "source": [
    "### Tune LDA"
   ]
  },
  {
   "cell_type": "code",
   "execution_count": 10,
   "id": "9f481721",
   "metadata": {},
   "outputs": [
    {
     "data": {
      "text/plain": [
       "[8558, 3883, 7967]"
      ]
     },
     "execution_count": 10,
     "metadata": {},
     "output_type": "execute_result"
    }
   ],
   "source": [
    "# Seeds Generation\n",
    "seeds = generate_random_seeds(3)\n",
    "seeds"
   ]
  },
  {
   "cell_type": "code",
   "execution_count": 11,
   "id": "e638cf53",
   "metadata": {},
   "outputs": [],
   "source": [
    "# Params Grid\n",
    "num_topics = [10, 20, 50]\n",
    "\n",
    "grid = {'alpha': ['symmetric','asymmetric','auto', 0.1, 0.01],  \n",
    "        'eta': ['symmetric', 'auto', 0.1, 0.01]}"
   ]
  },
  {
   "cell_type": "code",
   "execution_count": 12,
   "id": "d876ca23",
   "metadata": {},
   "outputs": [
    {
     "name": "stderr",
     "output_type": "stream",
     "text": [
      "\n",
      "Total progress:   0%|                                                                          | 0/180 [00:00<?, ?it/s]\u001b[A\n",
      "Total progress:   1%|▎                                                               | 1/180 [00:57<2:52:44, 57.90s/it]\u001b[A\n",
      "Total progress:   1%|▋                                                               | 2/180 [02:00<2:59:57, 60.66s/it]\u001b[A\n",
      "Total progress:   2%|█                                                               | 3/180 [02:59<2:56:52, 59.96s/it]\u001b[A\n",
      "Total progress:   2%|█▍                                                              | 4/180 [04:00<2:57:04, 60.37s/it]\u001b[A\n",
      "Total progress:   3%|█▊                                                              | 5/180 [04:57<2:52:21, 59.10s/it]\u001b[A\n",
      "Total progress:   3%|██▏                                                             | 6/180 [05:59<2:54:42, 60.24s/it]\u001b[A\n",
      "Total progress:   4%|██▍                                                             | 7/180 [07:02<2:55:35, 60.90s/it]\u001b[A\n",
      "Total progress:   4%|██▊                                                             | 8/180 [08:01<2:53:00, 60.35s/it]\u001b[A\n",
      "Total progress:   5%|███▏                                                            | 9/180 [08:57<2:48:10, 59.01s/it]\u001b[A\n",
      "Total progress:   6%|███▌                                                           | 10/180 [09:56<2:47:01, 58.95s/it]\u001b[A\n",
      "Total progress:   6%|███▊                                                           | 11/180 [10:53<2:44:29, 58.40s/it]\u001b[A\n",
      "Total progress:   7%|████▏                                                          | 12/180 [11:51<2:43:13, 58.29s/it]\u001b[A\n",
      "Total progress:   7%|████▌                                                          | 13/180 [12:48<2:41:15, 57.94s/it]\u001b[A\n",
      "Total progress:   8%|████▉                                                          | 14/180 [13:47<2:41:17, 58.30s/it]\u001b[A\n",
      "Total progress:   8%|█████▎                                                         | 15/180 [14:43<2:38:40, 57.70s/it]\u001b[A\n",
      "Total progress:   9%|█████▌                                                         | 16/180 [15:42<2:38:16, 57.91s/it]\u001b[A\n",
      "Total progress:   9%|█████▉                                                         | 17/180 [16:42<2:38:50, 58.47s/it]\u001b[A\n",
      "Total progress:  10%|██████▎                                                        | 18/180 [17:44<2:41:04, 59.66s/it]\u001b[A\n",
      "Total progress:  11%|██████▋                                                        | 19/180 [18:43<2:39:44, 59.53s/it]\u001b[A\n",
      "Total progress:  11%|███████                                                        | 20/180 [19:45<2:40:12, 60.08s/it]\u001b[A\n",
      "Total progress:  12%|███████▎                                                       | 21/180 [20:42<2:37:09, 59.31s/it]\u001b[A\n",
      "Total progress:  12%|███████▋                                                       | 22/180 [21:42<2:36:33, 59.45s/it]\u001b[A\n",
      "Total progress:  13%|████████                                                       | 23/180 [22:42<2:35:49, 59.55s/it]\u001b[A\n",
      "Total progress:  13%|████████▍                                                      | 24/180 [23:42<2:35:31, 59.82s/it]\u001b[A\n",
      "Total progress:  14%|████████▊                                                      | 25/180 [24:43<2:35:15, 60.10s/it]\u001b[A\n",
      "Total progress:  14%|█████████                                                      | 26/180 [25:51<2:40:10, 62.40s/it]\u001b[A\n",
      "Total progress:  15%|█████████▍                                                     | 27/180 [26:50<2:36:47, 61.49s/it]\u001b[A\n",
      "Total progress:  16%|█████████▊                                                     | 28/180 [27:50<2:34:24, 60.95s/it]\u001b[A\n",
      "Total progress:  16%|██████████▏                                                    | 29/180 [28:46<2:29:35, 59.44s/it]\u001b[A\n",
      "Total progress:  17%|██████████▌                                                    | 30/180 [29:46<2:29:10, 59.67s/it]\u001b[A\n",
      "Total progress:  17%|██████████▊                                                    | 31/180 [30:44<2:27:13, 59.28s/it]\u001b[A\n",
      "Total progress:  18%|███████████▏                                                   | 32/180 [31:45<2:27:33, 59.82s/it]\u001b[A\n",
      "Total progress:  18%|███████████▌                                                   | 33/180 [32:44<2:25:30, 59.39s/it]\u001b[A\n",
      "Total progress:  19%|███████████▉                                                   | 34/180 [33:45<2:25:39, 59.86s/it]\u001b[A\n",
      "Total progress:  19%|████████████▎                                                  | 35/180 [34:42<2:22:37, 59.02s/it]\u001b[A\n",
      "Total progress:  20%|████████████▌                                                  | 36/180 [35:42<2:22:36, 59.42s/it]\u001b[A\n",
      "Total progress:  21%|████████████▉                                                  | 37/180 [36:41<2:21:08, 59.22s/it]\u001b[A\n",
      "Total progress:  21%|█████████████▎                                                 | 38/180 [37:44<2:23:01, 60.43s/it]\u001b[A\n",
      "Total progress:  22%|█████████████▋                                                 | 39/180 [38:44<2:21:48, 60.34s/it]\u001b[A\n",
      "Total progress:  22%|██████████████                                                 | 40/180 [39:44<2:20:14, 60.10s/it]\u001b[A\n",
      "Total progress:  23%|██████████████▎                                                | 41/180 [40:42<2:17:52, 59.52s/it]\u001b[A\n",
      "Total progress:  23%|██████████████▋                                                | 42/180 [41:44<2:18:29, 60.21s/it]\u001b[A\n",
      "Total progress:  24%|███████████████                                                | 43/180 [42:43<2:16:41, 59.86s/it]\u001b[A\n",
      "Total progress:  24%|███████████████▍                                               | 44/180 [43:40<2:13:31, 58.91s/it]\u001b[A\n",
      "Total progress:  25%|███████████████▊                                               | 45/180 [44:37<2:11:33, 58.47s/it]\u001b[A\n",
      "Total progress:  26%|████████████████                                               | 46/180 [45:36<2:11:02, 58.68s/it]\u001b[A\n",
      "Total progress:  26%|████████████████▍                                              | 47/180 [46:34<2:09:20, 58.35s/it]\u001b[A\n",
      "Total progress:  27%|████████████████▊                                              | 48/180 [47:33<2:08:43, 58.51s/it]\u001b[A\n",
      "Total progress:  27%|█████████████████▏                                             | 49/180 [48:29<2:06:30, 57.94s/it]\u001b[A\n",
      "Total progress:  28%|█████████████████▌                                             | 50/180 [49:28<2:06:05, 58.19s/it]\u001b[A\n",
      "Total progress:  28%|█████████████████▊                                             | 51/180 [50:24<2:03:57, 57.65s/it]\u001b[A\n",
      "Total progress:  29%|██████████████████▏                                            | 52/180 [51:23<2:03:31, 57.90s/it]\u001b[A\n",
      "Total progress:  29%|██████████████████▌                                            | 53/180 [52:23<2:04:01, 58.60s/it]\u001b[A\n",
      "Total progress:  30%|██████████████████▉                                            | 54/180 [53:25<2:05:04, 59.56s/it]\u001b[A\n",
      "Total progress:  31%|███████████████████▎                                           | 55/180 [54:25<2:04:36, 59.81s/it]\u001b[A\n",
      "Total progress:  31%|███████████████████▌                                           | 56/180 [55:26<2:04:00, 60.00s/it]\u001b[A\n",
      "Total progress:  32%|███████████████████▉                                           | 57/180 [56:25<2:02:25, 59.72s/it]\u001b[A\n",
      "Total progress:  32%|████████████████████▎                                          | 58/180 [57:27<2:02:49, 60.41s/it]\u001b[A\n",
      "Total progress:  33%|████████████████████▋                                          | 59/180 [58:26<2:00:56, 59.97s/it]\u001b[A\n",
      "Total progress:  33%|█████████████████████                                          | 60/180 [59:25<1:59:18, 59.65s/it]\u001b[A\n",
      "Total progress:  34%|████████████████████▋                                        | 61/180 [1:00:32<2:02:35, 61.81s/it]\u001b[A\n",
      "Total progress:  34%|█████████████████████                                        | 62/180 [1:01:41<2:05:55, 64.03s/it]\u001b[A\n",
      "Total progress:  35%|█████████████████████▎                                       | 63/180 [1:02:48<2:06:38, 64.95s/it]\u001b[A\n",
      "Total progress:  36%|█████████████████████▋                                       | 64/180 [1:03:55<2:07:01, 65.70s/it]\u001b[A\n",
      "Total progress:  36%|██████████████████████                                       | 65/180 [1:05:01<2:05:48, 65.64s/it]\u001b[A\n"
     ]
    },
    {
     "name": "stderr",
     "output_type": "stream",
     "text": [
      "Total progress:  37%|██████████████████████▎                                      | 66/180 [1:06:09<2:05:59, 66.31s/it]\u001b[A\n",
      "Total progress:  37%|██████████████████████▋                                      | 67/180 [1:07:11<2:02:26, 65.02s/it]\u001b[A\n",
      "Total progress:  38%|███████████████████████                                      | 68/180 [1:08:14<2:00:23, 64.50s/it]\u001b[A\n",
      "Total progress:  38%|███████████████████████▍                                     | 69/180 [1:09:17<1:58:35, 64.10s/it]\u001b[A\n",
      "Total progress:  39%|███████████████████████▋                                     | 70/180 [1:10:21<1:57:23, 64.03s/it]\u001b[A\n",
      "Total progress:  39%|████████████████████████                                     | 71/180 [1:11:20<1:53:50, 62.67s/it]\u001b[A\n",
      "Total progress:  40%|████████████████████████▍                                    | 72/180 [1:12:23<1:52:42, 62.62s/it]\u001b[A\n",
      "Total progress:  41%|████████████████████████▋                                    | 73/180 [1:13:30<1:53:56, 63.89s/it]\u001b[A\n",
      "Total progress:  41%|█████████████████████████                                    | 74/180 [1:14:36<1:54:14, 64.66s/it]\u001b[A\n",
      "Total progress:  42%|█████████████████████████▍                                   | 75/180 [1:15:36<1:50:18, 63.03s/it]\u001b[A\n",
      "Total progress:  42%|█████████████████████████▊                                   | 76/180 [1:16:36<1:47:46, 62.18s/it]\u001b[A\n",
      "Total progress:  43%|██████████████████████████                                   | 77/180 [1:17:38<1:46:50, 62.24s/it]\u001b[A\n",
      "Total progress:  43%|██████████████████████████▍                                  | 78/180 [1:18:45<1:48:23, 63.76s/it]\u001b[A\n",
      "Total progress:  44%|██████████████████████████▊                                  | 79/180 [1:19:48<1:46:36, 63.33s/it]\u001b[A\n",
      "Total progress:  44%|███████████████████████████                                  | 80/180 [1:20:51<1:45:29, 63.29s/it]\u001b[A\n",
      "Total progress:  45%|███████████████████████████▍                                 | 81/180 [1:21:54<1:44:06, 63.09s/it]\u001b[A\n",
      "Total progress:  46%|███████████████████████████▊                                 | 82/180 [1:23:01<1:45:01, 64.30s/it]\u001b[A\n",
      "Total progress:  46%|████████████████████████████▏                                | 83/180 [1:24:04<1:43:15, 63.87s/it]\u001b[A\n",
      "Total progress:  47%|████████████████████████████▍                                | 84/180 [1:25:07<1:41:48, 63.63s/it]\u001b[A\n",
      "Total progress:  47%|████████████████████████████▊                                | 85/180 [1:26:11<1:41:17, 63.97s/it]\u001b[A\n",
      "Total progress:  48%|█████████████████████████████▏                               | 86/180 [1:27:17<1:41:10, 64.58s/it]\u001b[A\n",
      "Total progress:  48%|█████████████████████████████▍                               | 87/180 [1:28:18<1:38:19, 63.44s/it]\u001b[A\n",
      "Total progress:  49%|█████████████████████████████▊                               | 88/180 [1:29:22<1:37:15, 63.43s/it]\u001b[A\n",
      "Total progress:  49%|██████████████████████████████▏                              | 89/180 [1:30:26<1:36:52, 63.87s/it]\u001b[A\n",
      "Total progress:  50%|██████████████████████████████▌                              | 90/180 [1:31:36<1:38:30, 65.67s/it]\u001b[A\n",
      "Total progress:  51%|██████████████████████████████▊                              | 91/180 [1:32:39<1:35:58, 64.71s/it]\u001b[A\n",
      "Total progress:  51%|███████████████████████████████▏                             | 92/180 [1:33:44<1:34:54, 64.71s/it]\u001b[A\n",
      "Total progress:  52%|███████████████████████████████▌                             | 93/180 [1:34:47<1:33:30, 64.49s/it]\u001b[A\n",
      "Total progress:  52%|███████████████████████████████▊                             | 94/180 [1:36:00<1:35:41, 66.76s/it]\u001b[A\n",
      "Total progress:  53%|████████████████████████████████▏                            | 95/180 [1:37:07<1:35:04, 67.12s/it]\u001b[A\n",
      "Total progress:  53%|████████████████████████████████▌                            | 96/180 [1:38:13<1:33:05, 66.50s/it]\u001b[A\n",
      "Total progress:  54%|████████████████████████████████▊                            | 97/180 [1:39:17<1:31:00, 65.79s/it]\u001b[A\n",
      "Total progress:  54%|█████████████████████████████████▏                           | 98/180 [1:40:29<1:32:26, 67.64s/it]\u001b[A\n",
      "Total progress:  55%|█████████████████████████████████▌                           | 99/180 [1:41:38<1:32:08, 68.26s/it]\u001b[A\n",
      "Total progress:  56%|█████████████████████████████████▎                          | 100/180 [1:42:50<1:32:14, 69.18s/it]\u001b[A\n",
      "Total progress:  56%|█████████████████████████████████▋                          | 101/180 [1:44:01<1:31:57, 69.84s/it]\u001b[A\n",
      "Total progress:  57%|██████████████████████████████████                          | 102/180 [1:45:15<1:32:29, 71.15s/it]\u001b[A\n",
      "Total progress:  57%|██████████████████████████████████▎                         | 103/180 [1:46:18<1:28:13, 68.75s/it]\u001b[A\n",
      "Total progress:  58%|██████████████████████████████████▋                         | 104/180 [1:47:23<1:25:21, 67.38s/it]\u001b[A\n",
      "Total progress:  58%|███████████████████████████████████                         | 105/180 [1:48:24<1:21:57, 65.56s/it]\u001b[A\n",
      "Total progress:  59%|███████████████████████████████████▎                        | 106/180 [1:49:29<1:20:39, 65.39s/it]\u001b[A\n",
      "Total progress:  59%|███████████████████████████████████▋                        | 107/180 [1:50:30<1:17:58, 64.09s/it]\u001b[A\n",
      "Total progress:  60%|████████████████████████████████████                        | 108/180 [1:51:33<1:16:23, 63.67s/it]\u001b[A\n",
      "Total progress:  61%|████████████████████████████████████▎                       | 109/180 [1:52:38<1:15:46, 64.03s/it]\u001b[A\n",
      "Total progress:  61%|████████████████████████████████████▋                       | 110/180 [1:53:50<1:17:36, 66.52s/it]\u001b[A\n",
      "Total progress:  62%|█████████████████████████████████████                       | 111/180 [1:54:52<1:14:57, 65.18s/it]\u001b[A\n",
      "Total progress:  62%|█████████████████████████████████████▎                      | 112/180 [1:56:00<1:14:45, 65.96s/it]\u001b[A\n",
      "Total progress:  63%|█████████████████████████████████████▋                      | 113/180 [1:57:08<1:14:18, 66.55s/it]\u001b[A\n",
      "Total progress:  63%|██████████████████████████████████████                      | 114/180 [1:58:19<1:14:42, 67.92s/it]\u001b[A\n",
      "Total progress:  64%|██████████████████████████████████████▎                     | 115/180 [1:59:22<1:11:57, 66.42s/it]\u001b[A\n",
      "Total progress:  64%|██████████████████████████████████████▋                     | 116/180 [2:00:27<1:10:22, 65.98s/it]\u001b[A\n",
      "Total progress:  65%|███████████████████████████████████████                     | 117/180 [2:01:37<1:10:47, 67.43s/it]\u001b[A\n",
      "Total progress:  66%|███████████████████████████████████████▎                    | 118/180 [2:02:50<1:11:16, 68.98s/it]\u001b[A\n",
      "Total progress:  66%|███████████████████████████████████████▋                    | 119/180 [2:04:00<1:10:21, 69.21s/it]\u001b[A\n",
      "Total progress:  67%|████████████████████████████████████████                    | 120/180 [2:05:07<1:08:42, 68.70s/it]\u001b[A\n",
      "Total progress:  67%|████████████████████████████████████████▎                   | 121/180 [2:06:29<1:11:29, 72.70s/it]\u001b[A\n",
      "Total progress:  68%|████████████████████████████████████████▋                   | 122/180 [2:08:02<1:16:12, 78.84s/it]\u001b[A\n",
      "Total progress:  68%|█████████████████████████████████████████                   | 123/180 [2:09:25<1:16:04, 80.07s/it]\u001b[A\n",
      "Total progress:  69%|█████████████████████████████████████████▎                  | 124/180 [2:10:50<1:15:58, 81.39s/it]\u001b[A\n",
      "Total progress:  69%|█████████████████████████████████████████▋                  | 125/180 [2:12:13<1:14:57, 81.78s/it]\u001b[A\n",
      "Total progress:  70%|██████████████████████████████████████████                  | 126/180 [2:13:44<1:16:12, 84.67s/it]\u001b[A\n",
      "Total progress:  71%|██████████████████████████████████████████▎                 | 127/180 [2:15:07<1:14:20, 84.16s/it]\u001b[A\n",
      "Total progress:  71%|██████████████████████████████████████████▋                 | 128/180 [2:16:30<1:12:32, 83.70s/it]\u001b[A\n",
      "Total progress:  72%|███████████████████████████████████████████                 | 129/180 [2:17:53<1:11:11, 83.75s/it]\u001b[A\n",
      "Total progress:  72%|███████████████████████████████████████████▎                | 130/180 [2:19:27<1:12:09, 86.59s/it]\u001b[A\n",
      "Total progress:  73%|███████████████████████████████████████████▋                | 131/180 [2:20:48<1:09:30, 85.12s/it]\u001b[A\n"
     ]
    },
    {
     "name": "stderr",
     "output_type": "stream",
     "text": [
      "Total progress:  73%|████████████████████████████████████████████                | 132/180 [2:22:11<1:07:34, 84.47s/it]\u001b[A\n",
      "Total progress:  74%|████████████████████████████████████████████▎               | 133/180 [2:23:35<1:06:05, 84.37s/it]\u001b[A\n",
      "Total progress:  74%|████████████████████████████████████████████▋               | 134/180 [2:25:05<1:05:52, 85.93s/it]\u001b[A\n",
      "Total progress:  75%|█████████████████████████████████████████████               | 135/180 [2:26:28<1:03:41, 84.93s/it]\u001b[A\n",
      "Total progress:  76%|█████████████████████████████████████████████▎              | 136/180 [2:27:49<1:01:31, 83.89s/it]\u001b[A\n",
      "Total progress:  76%|███████████████████████████████████████████████▏              | 137/180 [2:29:10<59:35, 83.15s/it]\u001b[A\n",
      "Total progress:  77%|███████████████████████████████████████████████▌              | 138/180 [2:30:42<59:51, 85.52s/it]\u001b[A\n",
      "Total progress:  77%|███████████████████████████████████████████████▉              | 139/180 [2:32:04<57:45, 84.54s/it]\u001b[A\n",
      "Total progress:  78%|████████████████████████████████████████████████▏             | 140/180 [2:33:27<56:05, 84.15s/it]\u001b[A\n",
      "Total progress:  78%|████████████████████████████████████████████████▌             | 141/180 [2:34:48<54:04, 83.19s/it]\u001b[A\n",
      "Total progress:  79%|████████████████████████████████████████████████▉             | 142/180 [2:36:18<54:02, 85.32s/it]\u001b[A\n",
      "Total progress:  79%|█████████████████████████████████████████████████▎            | 143/180 [2:37:39<51:47, 83.99s/it]\u001b[A\n",
      "Total progress:  80%|█████████████████████████████████████████████████▌            | 144/180 [2:39:00<49:48, 83.01s/it]\u001b[A\n",
      "Total progress:  81%|█████████████████████████████████████████████████▉            | 145/180 [2:40:24<48:35, 83.31s/it]\u001b[A\n",
      "Total progress:  81%|██████████████████████████████████████████████████▎           | 146/180 [2:41:55<48:33, 85.69s/it]\u001b[A\n",
      "Total progress:  82%|██████████████████████████████████████████████████▋           | 147/180 [2:43:19<46:49, 85.14s/it]\u001b[A\n",
      "Total progress:  82%|██████████████████████████████████████████████████▉           | 148/180 [2:44:41<44:55, 84.25s/it]\u001b[A\n",
      "Total progress:  83%|███████████████████████████████████████████████████▎          | 149/180 [2:46:03<43:05, 83.41s/it]\u001b[A\n",
      "Total progress:  83%|███████████████████████████████████████████████████▋          | 150/180 [2:47:32<42:39, 85.33s/it]\u001b[A\n",
      "Total progress:  84%|████████████████████████████████████████████████████          | 151/180 [2:48:53<40:36, 84.03s/it]\u001b[A\n",
      "Total progress:  84%|████████████████████████████████████████████████████▎         | 152/180 [2:50:15<38:52, 83.31s/it]\u001b[A\n",
      "Total progress:  85%|████████████████████████████████████████████████████▋         | 153/180 [2:51:37<37:18, 82.89s/it]\u001b[A\n",
      "Total progress:  86%|█████████████████████████████████████████████████████         | 154/180 [2:53:05<36:38, 84.54s/it]\u001b[A\n",
      "Total progress:  86%|█████████████████████████████████████████████████████▍        | 155/180 [2:54:28<35:01, 84.06s/it]\u001b[A\n",
      "Total progress:  87%|█████████████████████████████████████████████████████▋        | 156/180 [2:55:49<33:13, 83.05s/it]\u001b[A\n",
      "Total progress:  87%|██████████████████████████████████████████████████████        | 157/180 [2:57:11<31:44, 82.79s/it]\u001b[A\n",
      "Total progress:  88%|██████████████████████████████████████████████████████▍       | 158/180 [2:58:40<31:00, 84.55s/it]\u001b[A\n",
      "Total progress:  88%|██████████████████████████████████████████████████████▊       | 159/180 [3:00:03<29:24, 84.04s/it]\u001b[A\n",
      "Total progress:  89%|███████████████████████████████████████████████████████       | 160/180 [3:01:23<27:41, 83.08s/it]\u001b[A\n",
      "Total progress:  89%|███████████████████████████████████████████████████████▍      | 161/180 [3:02:45<26:10, 82.65s/it]\u001b[A\n",
      "Total progress:  90%|███████████████████████████████████████████████████████▊      | 162/180 [3:04:16<25:34, 85.24s/it]\u001b[A\n",
      "Total progress:  91%|████████████████████████████████████████████████████████▏     | 163/180 [3:05:40<24:02, 84.83s/it]\u001b[A\n",
      "Total progress:  91%|████████████████████████████████████████████████████████▍     | 164/180 [3:07:02<22:20, 83.77s/it]\u001b[A\n",
      "Total progress:  92%|████████████████████████████████████████████████████████▊     | 165/180 [3:08:25<20:55, 83.67s/it]\u001b[A\n",
      "Total progress:  92%|█████████████████████████████████████████████████████████▏    | 166/180 [3:09:55<19:58, 85.62s/it]\u001b[A\n",
      "Total progress:  93%|█████████████████████████████████████████████████████████▌    | 167/180 [3:11:18<18:23, 84.92s/it]\u001b[A\n",
      "Total progress:  93%|█████████████████████████████████████████████████████████▊    | 168/180 [3:12:41<16:52, 84.33s/it]\u001b[A\n",
      "Total progress:  94%|██████████████████████████████████████████████████████████▏   | 169/180 [3:14:05<15:24, 84.03s/it]\u001b[A\n",
      "Total progress:  94%|██████████████████████████████████████████████████████████▌   | 170/180 [3:15:37<14:23, 86.35s/it]\u001b[A\n",
      "Total progress:  95%|██████████████████████████████████████████████████████████▉   | 171/180 [3:16:59<12:47, 85.24s/it]\u001b[A\n",
      "Total progress:  96%|███████████████████████████████████████████████████████████▏  | 172/180 [3:18:23<11:17, 84.72s/it]\u001b[A\n",
      "Total progress:  96%|███████████████████████████████████████████████████████████▌  | 173/180 [3:19:47<09:51, 84.51s/it]\u001b[A\n",
      "Total progress:  97%|███████████████████████████████████████████████████████████▉  | 174/180 [3:21:18<08:38, 86.45s/it]\u001b[A\n",
      "Total progress:  97%|████████████████████████████████████████████████████████████▎ | 175/180 [3:22:40<07:06, 85.30s/it]\u001b[A\n",
      "Total progress:  98%|████████████████████████████████████████████████████████████▌ | 176/180 [3:24:01<05:35, 83.99s/it]\u001b[A\n",
      "Total progress:  98%|████████████████████████████████████████████████████████████▉ | 177/180 [3:25:24<04:10, 83.58s/it]\u001b[A\n",
      "Total progress:  99%|█████████████████████████████████████████████████████████████▎| 178/180 [3:26:55<02:51, 85.84s/it]\u001b[A\n",
      "Total progress:  99%|█████████████████████████████████████████████████████████████▋| 179/180 [3:28:19<01:25, 85.22s/it]\u001b[A\n",
      "Total progress: 100%|██████████████████████████████████████████████████████████████| 180/180 [3:29:41<00:00, 69.90s/it]\u001b[A\n"
     ]
    }
   ],
   "source": [
    "df = tune_lda_iter(texts, corpus, id2word, num_topics, seeds, grid)"
   ]
  },
  {
   "cell_type": "code",
   "execution_count": 13,
   "id": "e6efb595",
   "metadata": {},
   "outputs": [
    {
     "data": {
      "text/html": [
       "<div>\n",
       "<style scoped>\n",
       "    .dataframe tbody tr th:only-of-type {\n",
       "        vertical-align: middle;\n",
       "    }\n",
       "\n",
       "    .dataframe tbody tr th {\n",
       "        vertical-align: top;\n",
       "    }\n",
       "\n",
       "    .dataframe thead th {\n",
       "        text-align: right;\n",
       "    }\n",
       "</style>\n",
       "<table border=\"1\" class=\"dataframe\">\n",
       "  <thead>\n",
       "    <tr style=\"text-align: right;\">\n",
       "      <th></th>\n",
       "      <th>num_topics</th>\n",
       "      <th>seed</th>\n",
       "      <th>score</th>\n",
       "      <th>alpha</th>\n",
       "      <th>eta</th>\n",
       "      <th>tests</th>\n",
       "    </tr>\n",
       "  </thead>\n",
       "  <tbody>\n",
       "    <tr>\n",
       "      <th>0</th>\n",
       "      <td>10</td>\n",
       "      <td>8558</td>\n",
       "      <td>0.626402</td>\n",
       "      <td>asymmetric</td>\n",
       "      <td>0.01</td>\n",
       "      <td>{0: {'top 5 sample': ['problem', 'man', 'body'...</td>\n",
       "    </tr>\n",
       "    <tr>\n",
       "      <th>1</th>\n",
       "      <td>10</td>\n",
       "      <td>3883</td>\n",
       "      <td>0.580637</td>\n",
       "      <td>asymmetric</td>\n",
       "      <td>symmetric</td>\n",
       "      <td>{0: {'top 5 sample': ['make', 'formula', 'cup'...</td>\n",
       "    </tr>\n",
       "    <tr>\n",
       "      <th>2</th>\n",
       "      <td>10</td>\n",
       "      <td>7967</td>\n",
       "      <td>0.625912</td>\n",
       "      <td>auto</td>\n",
       "      <td>symmetric</td>\n",
       "      <td>{0: {'top 5 sample': ['wear', 'buy', 'hour', '...</td>\n",
       "    </tr>\n",
       "    <tr>\n",
       "      <th>3</th>\n",
       "      <td>20</td>\n",
       "      <td>8558</td>\n",
       "      <td>0.559939</td>\n",
       "      <td>0.01</td>\n",
       "      <td>0.1</td>\n",
       "      <td>{0: {'top 5 sample': ['mother', 'live', 'murde...</td>\n",
       "    </tr>\n",
       "    <tr>\n",
       "      <th>4</th>\n",
       "      <td>20</td>\n",
       "      <td>3883</td>\n",
       "      <td>0.569342</td>\n",
       "      <td>0.1</td>\n",
       "      <td>0.01</td>\n",
       "      <td>{0: {'top 5 sample': ['side', 'weird', 'belly'...</td>\n",
       "    </tr>\n",
       "    <tr>\n",
       "      <th>5</th>\n",
       "      <td>20</td>\n",
       "      <td>7967</td>\n",
       "      <td>0.562992</td>\n",
       "      <td>0.01</td>\n",
       "      <td>0.1</td>\n",
       "      <td>{0: {'top 5 sample': ['overnight', 'bother', '...</td>\n",
       "    </tr>\n",
       "    <tr>\n",
       "      <th>6</th>\n",
       "      <td>50</td>\n",
       "      <td>8558</td>\n",
       "      <td>0.490047</td>\n",
       "      <td>0.01</td>\n",
       "      <td>0.1</td>\n",
       "      <td>{0: {'top 5 sample': ['treatment', 'physical',...</td>\n",
       "    </tr>\n",
       "    <tr>\n",
       "      <th>7</th>\n",
       "      <td>50</td>\n",
       "      <td>3883</td>\n",
       "      <td>0.472989</td>\n",
       "      <td>asymmetric</td>\n",
       "      <td>0.1</td>\n",
       "      <td>{0: {'top 5 sample': ['feel', 'wear', 'pad', '...</td>\n",
       "    </tr>\n",
       "    <tr>\n",
       "      <th>8</th>\n",
       "      <td>50</td>\n",
       "      <td>7967</td>\n",
       "      <td>0.495381</td>\n",
       "      <td>0.01</td>\n",
       "      <td>0.1</td>\n",
       "      <td>{0: {'top 5 sample': ['push', 'wear', 'start',...</td>\n",
       "    </tr>\n",
       "  </tbody>\n",
       "</table>\n",
       "</div>"
      ],
      "text/plain": [
       "   num_topics  seed     score       alpha        eta  \\\n",
       "0          10  8558  0.626402  asymmetric       0.01   \n",
       "1          10  3883  0.580637  asymmetric  symmetric   \n",
       "2          10  7967  0.625912        auto  symmetric   \n",
       "3          20  8558  0.559939        0.01        0.1   \n",
       "4          20  3883  0.569342         0.1       0.01   \n",
       "5          20  7967  0.562992        0.01        0.1   \n",
       "6          50  8558  0.490047        0.01        0.1   \n",
       "7          50  3883  0.472989  asymmetric        0.1   \n",
       "8          50  7967  0.495381        0.01        0.1   \n",
       "\n",
       "                                               tests  \n",
       "0  {0: {'top 5 sample': ['problem', 'man', 'body'...  \n",
       "1  {0: {'top 5 sample': ['make', 'formula', 'cup'...  \n",
       "2  {0: {'top 5 sample': ['wear', 'buy', 'hour', '...  \n",
       "3  {0: {'top 5 sample': ['mother', 'live', 'murde...  \n",
       "4  {0: {'top 5 sample': ['side', 'weird', 'belly'...  \n",
       "5  {0: {'top 5 sample': ['overnight', 'bother', '...  \n",
       "6  {0: {'top 5 sample': ['treatment', 'physical',...  \n",
       "7  {0: {'top 5 sample': ['feel', 'wear', 'pad', '...  \n",
       "8  {0: {'top 5 sample': ['push', 'wear', 'start',...  "
      ]
     },
     "execution_count": 13,
     "metadata": {},
     "output_type": "execute_result"
    }
   ],
   "source": [
    "df"
   ]
  },
  {
   "cell_type": "markdown",
   "id": "3495e6c1",
   "metadata": {},
   "source": [
    "### Save Results"
   ]
  },
  {
   "cell_type": "code",
   "execution_count": null,
   "id": "23010344",
   "metadata": {},
   "outputs": [],
   "source": [
    "path ='../../res/gensim_test.csv'\n",
    "\n",
    "df_to_csv(df, path)"
   ]
  },
  {
   "cell_type": "code",
   "execution_count": null,
   "id": "b8a8b804",
   "metadata": {},
   "outputs": [],
   "source": []
  }
 ],
 "metadata": {
  "kernelspec": {
   "display_name": "Python 3 (ipykernel)",
   "language": "python",
   "name": "python3"
  },
  "language_info": {
   "codemirror_mode": {
    "name": "ipython",
    "version": 3
   },
   "file_extension": ".py",
   "mimetype": "text/x-python",
   "name": "python",
   "nbconvert_exporter": "python",
   "pygments_lexer": "ipython3",
   "version": "3.9.12"
  }
 },
 "nbformat": 4,
 "nbformat_minor": 5
}
